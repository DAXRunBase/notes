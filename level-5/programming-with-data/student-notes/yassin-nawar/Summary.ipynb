{
 "cells": [
  {
   "cell_type": "markdown",
   "id": "c5417695",
   "metadata": {},
   "source": [
    "# <center> CM2015 Programming With Data <center>\n",
    "## <center> Python Programming Summary <center>\n",
    "###  <center> *September 16 - 2023* <center>"
   ]
  },
  {
   "cell_type": "markdown",
   "id": "f41efa83",
   "metadata": {},
   "source": [
    "### 1. Functions\n",
    "Functions in Python are blocks of organized and reusable code that perform a single, related action. They are crucial for breaking down complex tasks into smaller, manageable sub-tasks."
   ]
  },
  {
   "cell_type": "code",
   "execution_count": 2,
   "id": "5bbe803d",
   "metadata": {},
   "outputs": [],
   "source": [
    "# Example of defining and calling a function\n",
    "def function_name(parameters):\n",
    "    # body of the function\n",
    "    return value\n",
    "\n",
    "# result = function_name(arguments)"
   ]
  },
  {
   "cell_type": "markdown",
   "id": "381690f8",
   "metadata": {},
   "source": [
    "#### Key Points:\n",
    "- Functions help modularize and reuse code.\n",
    "- Defined using the `def` keyword.\n",
    "- Accept parameters and can return values.\n",
    "- Should be invoked/called to execute. *result = function_name(arguments)*\n"
   ]
  },
  {
   "cell_type": "markdown",
   "id": "2209fa7a",
   "metadata": {},
   "source": [
    "### 2. Data Types\n"
   ]
  },
  {
   "cell_type": "code",
   "execution_count": 3,
   "id": "c515c872",
   "metadata": {},
   "outputs": [],
   "source": [
    "# Strings: Sequence of characters\n",
    "my_str = \"Hello, World!\"\n",
    "\n",
    "# Lists: Ordered collections of items (mutable)\n",
    "my_list = [1, 2, 3, \"Python\", [4, 5]]\n",
    "\n",
    "# Dictionaries: Unordered key-value pairs\n",
    "my_dict = {\"key1\": \"value1\", \"key2\": \"value2\"}"
   ]
  },
  {
   "cell_type": "markdown",
   "id": "b59cccaa",
   "metadata": {},
   "source": [
    "#### Key Points:\n",
    "- Strings represent text data.\n",
    "- Lists are ordered collections, can have mixed types.\n",
    "- Dictionaries store key-value pairs.\n",
    "- Both lists and dictionaries are mutable.\n"
   ]
  },
  {
   "cell_type": "markdown",
   "id": "3471fd85",
   "metadata": {},
   "source": [
    "### 3. Loops\n"
   ]
  },
  {
   "cell_type": "code",
   "execution_count": 4,
   "id": "f0a8a9bd",
   "metadata": {},
   "outputs": [
    {
     "name": "stdout",
     "output_type": "stream",
     "text": [
      "1\n",
      "2\n",
      "3\n",
      "Python\n",
      "[4, 5]\n",
      "0\n",
      "1\n",
      "2\n"
     ]
    }
   ],
   "source": [
    "# For Loop example\n",
    "for item in my_list:\n",
    "    print(item)\n",
    "\n",
    "# While Loop example\n",
    "count = 0\n",
    "while count < 3:\n",
    "    print(count)\n",
    "    count += 1"
   ]
  },
  {
   "cell_type": "markdown",
   "id": "1ec30bfb",
   "metadata": {},
   "source": [
    "#### Key Points:\n",
    "- `For` loops iterate over sequences (like lists or strings).\n",
    "- `While` loops execute as long as a condition is true.\n",
    "- Loops can use `break` to exit early, `continue` to skip an iteration."
   ]
  },
  {
   "cell_type": "markdown",
   "id": "097b319c",
   "metadata": {},
   "source": [
    "### 4. File Handling\n"
   ]
  },
  {
   "cell_type": "code",
   "execution_count": null,
   "id": "36bba108",
   "metadata": {},
   "outputs": [],
   "source": [
    "# Reading from a file\n",
    "with open('filename.txt', 'r') as file:\n",
    "    content = file.read()\n",
    "\n",
    "# Writing to a file\n",
    "with open('filename.txt', 'w') as file:\n",
    "    file.write(\"Hello, Python!\")"
   ]
  },
  {
   "cell_type": "markdown",
   "id": "935e01de",
   "metadata": {},
   "source": [
    "#### Key Points:\n",
    "- Use the `open()` function to read or write to files.\n",
    "- `with` statement ensures file closure after operations.\n",
    "- Two common modes: `'r'` for reading, `'w'` for writing.\n"
   ]
  },
  {
   "cell_type": "markdown",
   "id": "92afb64f",
   "metadata": {},
   "source": [
    "### 5. Conditions"
   ]
  },
  {
   "cell_type": "code",
   "execution_count": 5,
   "id": "c40adf2d",
   "metadata": {},
   "outputs": [
    {
     "name": "stdout",
     "output_type": "stream",
     "text": [
      "Condition1 is true\n"
     ]
    }
   ],
   "source": [
    "condition1, condition2 = True, False\n",
    "\n",
    "# Example of conditions\n",
    "if condition1:\n",
    "    print(\"Condition1 is true\")\n",
    "elif condition2:\n",
    "    print(\"Condition2 is true\")\n",
    "else:\n",
    "    print(\"Both conditions are false\")"
   ]
  },
  {
   "cell_type": "markdown",
   "id": "dd664bd0",
   "metadata": {},
   "source": [
    "#### Key Points:\n",
    "- Use `if`, `elif`, and `else` for conditional logic.\n",
    "- Python supports comparison (`<`, `>`, `==`, `!=`, `<=`, `>=`) and logical (`and`, `or`, `not`) operators."
   ]
  },
  {
   "cell_type": "markdown",
   "id": "fb00144c",
   "metadata": {},
   "source": [
    "### 6. User Input"
   ]
  },
  {
   "cell_type": "code",
   "execution_count": 7,
   "id": "4f362b53",
   "metadata": {},
   "outputs": [
    {
     "name": "stdout",
     "output_type": "stream",
     "text": [
      "Enter something: Hello World!\n",
      "You entered: Hello World!\n"
     ]
    }
   ],
   "source": [
    "# Uncomment below lines to test user input\n",
    "user_input = input(\"Enter something: \")\n",
    "print(f\"You entered: {user_input}\")"
   ]
  },
  {
   "cell_type": "markdown",
   "id": "520ef18a",
   "metadata": {},
   "source": [
    "#### Key Points:\n",
    "- `input()` function retrieves user input as a string.\n",
    "- Can cast to other data types like int or float if needed."
   ]
  },
  {
   "cell_type": "markdown",
   "id": "54cb0359",
   "metadata": {},
   "source": [
    "### 7. Error Handling\n"
   ]
  },
  {
   "cell_type": "code",
   "execution_count": 11,
   "id": "04824fa0",
   "metadata": {},
   "outputs": [
    {
     "name": "stdout",
     "output_type": "stream",
     "text": [
      "Can't divide by zero!\n",
      "Execution finished!\n"
     ]
    }
   ],
   "source": [
    "try:\n",
    "    numerator = 10\n",
    "    denominator = 0\n",
    "    result = numerator / denominator\n",
    "    print(result)\n",
    "except ZeroDivisionError:\n",
    "    print(\"Can't divide by zero!\")\n",
    "except Exception as e:\n",
    "    print(f\"An error occurred: {e}\")\n",
    "finally:\n",
    "    print(\"Execution finished!\")"
   ]
  },
  {
   "cell_type": "markdown",
   "id": "0b367ab4",
   "metadata": {},
   "source": [
    "#### Key Points:\n",
    "- `try`, `except`, and `finally` are used for error handling.\n",
    "- Catch specific errors or use a general `Exception`.\n",
    "- `finally` block executes no matter what, useful for cleanup."
   ]
  },
  {
   "cell_type": "markdown",
   "id": "9e1d98b0",
   "metadata": {},
   "source": [
    "## <center>  DataFrames (Pandas) <center>\n",
    "\n",
    ">  ##### Central to Pandas is the DataFrame — a two-dimensional, size-mutable, heterogeneous tabular data structure.\n",
    ">  ##### Think of it like an Excel spreadsheet or SQL table in memory."
   ]
  },
  {
   "cell_type": "markdown",
   "id": "b17af76a",
   "metadata": {},
   "source": [
    "### 1. DataFrames"
   ]
  },
  {
   "cell_type": "markdown",
   "id": "b4cd3466",
   "metadata": {},
   "source": [
    "### Creation\n",
    "- There are many ways to construct a DataFrame. It can be created from a dictionary, lists, external files, or even another DataFrame."
   ]
  },
  {
   "cell_type": "code",
   "execution_count": 14,
   "id": "52dd7891",
   "metadata": {},
   "outputs": [
    {
     "name": "stdout",
     "output_type": "stream",
     "text": [
      "      Name  Age           City\n",
      "0    Alice   25       New York\n",
      "1      Bob   30  San Francisco\n",
      "2  Charlie   35    Los Angeles\n"
     ]
    }
   ],
   "source": [
    "import pandas as pd\n",
    "\n",
    "# Read CSV file into a DataFrame\n",
    "#UNCOMMENT to load from local file\n",
    "# df = pd.read_csv('path_to_file.csv')\n",
    "\n",
    "# Example of creating a DataFrame\n",
    "data = {\n",
    "    'Name': ['Alice', 'Bob', 'Charlie'],\n",
    "    'Age': [25, 30, 35],\n",
    "    'City': ['New York', 'San Francisco', 'Los Angeles']\n",
    "}\n",
    "\n",
    "df = pd.DataFrame(data)\n",
    "print(df)"
   ]
  },
  {
   "cell_type": "markdown",
   "id": "9e6d011c",
   "metadata": {},
   "source": [
    "### Manipulation\n",
    "- One of the reasons for the popularity of DataFrames is the ease of data manipulation. You can easily add, delete or modify the data in a DataFrame."
   ]
  },
  {
   "cell_type": "code",
   "execution_count": 15,
   "id": "fc857ab9",
   "metadata": {},
   "outputs": [
    {
     "name": "stdout",
     "output_type": "stream",
     "text": [
      "      Name  Age           City  Salary\n",
      "0    Alice   25       New York   50000\n",
      "1      Bob   30  San Francisco   60000\n",
      "2  Charlie   35    Los Angeles   70000\n"
     ]
    }
   ],
   "source": [
    "# Add a new column\n",
    "df['Salary'] = [50000, 60000, 70000]\n",
    "print(df)\n",
    "\n",
    "# Delete a column\n",
    "# del df['Age']\n",
    "# print(df)"
   ]
  },
  {
   "cell_type": "markdown",
   "id": "7baca0f7",
   "metadata": {},
   "source": [
    "#### Key Points:\n",
    "- DataFrames store data in tabular form (rows & columns).\n",
    "- Columns can be of different types.\n",
    "- Operations like filtering, aggregation, and transformation can be performed.\n"
   ]
  },
  {
   "cell_type": "markdown",
   "id": "e7becd81",
   "metadata": {},
   "source": [
    "### 2. Handling Missing Data\n",
    "\n",
    ">  Real-world data is often messy and contains missing values.\n",
    ">  Pandas provides tools to handle such scenarios."
   ]
  },
  {
   "cell_type": "code",
   "execution_count": 16,
   "id": "ef4e881f",
   "metadata": {},
   "outputs": [
    {
     "name": "stdout",
     "output_type": "stream",
     "text": [
      "    Name   Age      City   Salary\n",
      "0  Alice  25.0  New York  50000.0\n",
      "\n",
      "\n",
      "      Name      Age           City   Salary\n",
      "0    Alice     25.0       New York  50000.0\n",
      "1      Bob  Unknown  San Francisco  60000.0\n",
      "2  Charlie     35.0        Unknown  70000.0\n",
      "3    David     40.0        Chicago  Unknown\n"
     ]
    }
   ],
   "source": [
    "# Example DataFrame with missing values\n",
    "data_with_nan = {\n",
    "    'Name': ['Alice', 'Bob', 'Charlie', 'David'],\n",
    "    'Age': [25, None, 35, 40],\n",
    "    'City': ['New York', 'San Francisco', None, 'Chicago'],\n",
    "    'Salary':[50000,60000,70000,None]\n",
    "}\n",
    "\n",
    "df_nan = pd.DataFrame(data_with_nan)\n",
    "\n",
    "# Handling missing values\n",
    "df_dropped = df_nan.dropna()  # Removes rows with NaN\n",
    "df_filled = df_nan.fillna(\"Unknown\")  # Fills NaN with \"Unknown\"\n",
    "print(df_dropped)\n",
    "print(\"\\n\")\n",
    "print(df_filled)"
   ]
  },
  {
   "cell_type": "markdown",
   "id": "247dc76b",
   "metadata": {},
   "source": [
    "#### Key Points:\n",
    "- Real-world data often has missing values.\n",
    "- `dropna()` removes rows/columns with missing values.\n",
    "- `fillna()` replaces missing values with specified values.\n"
   ]
  },
  {
   "cell_type": "markdown",
   "id": "84a753f0",
   "metadata": {},
   "source": [
    "### 3. Data Selection\n",
    "> Select specific rows and columns based on criteria or location."
   ]
  },
  {
   "cell_type": "code",
   "execution_count": 17,
   "id": "006dcf39",
   "metadata": {},
   "outputs": [
    {
     "name": "stdout",
     "output_type": "stream",
     "text": [
      "Name         Alice\n",
      "Age             25\n",
      "City      New York\n",
      "Salary       50000\n",
      "Name: 0, dtype: object\n",
      "\n",
      "\n",
      "Alice\n"
     ]
    }
   ],
   "source": [
    "# Selecting data using .iloc and .loc\n",
    "print(df.iloc[0])      # First row\n",
    "print(\"\\n\")\n",
    "print(df.loc[0, 'Name']) # Value at first row, Name column"
   ]
  },
  {
   "cell_type": "markdown",
   "id": "f0b5b734",
   "metadata": {},
   "source": [
    "#### Key Points:\n",
    "- `.iloc` is purely integer-based location indexing.\n",
    "- `.loc` is label-based indexing.\n"
   ]
  },
  {
   "cell_type": "markdown",
   "id": "d527e0d1",
   "metadata": {},
   "source": [
    "### 4. Aggregations\n",
    "> Aggregate data for analysis (e.g., sum, average)."
   ]
  },
  {
   "cell_type": "code",
   "execution_count": 18,
   "id": "955bbfb4",
   "metadata": {},
   "outputs": [
    {
     "name": "stdout",
     "output_type": "stream",
     "text": [
      "30.0\n",
      "90\n"
     ]
    }
   ],
   "source": [
    "# Aggregations on the DataFrame\n",
    "print(df['Age'].mean())  # Average age\n",
    "print(df['Age'].sum())   # Total age"
   ]
  },
  {
   "cell_type": "markdown",
   "id": "89f39f28",
   "metadata": {},
   "source": [
    "#### Key Points:\n",
    "- Aggregations provide summarized data.\n",
    "- Common functions: `sum()`, `mean()`, `min()`, `max()`, etc.\n"
   ]
  },
  {
   "cell_type": "markdown",
   "id": "03bbf2eb",
   "metadata": {},
   "source": [
    "### 5. Basic Stats\n",
    "> Gain insights into data distributions, tendencies, and other statistical measures."
   ]
  },
  {
   "cell_type": "code",
   "execution_count": 19,
   "id": "a2170709",
   "metadata": {},
   "outputs": [
    {
     "name": "stdout",
     "output_type": "stream",
     "text": [
      "count     3.0\n",
      "mean     30.0\n",
      "std       5.0\n",
      "min      25.0\n",
      "25%      27.5\n",
      "50%      30.0\n",
      "75%      32.5\n",
      "max      35.0\n",
      "Name: Age, dtype: float64\n",
      "\n",
      "\n",
      "count         3\n",
      "unique        3\n",
      "top       Alice\n",
      "freq          1\n",
      "Name: Name, dtype: object\n",
      "\n",
      "\n",
      "count            3\n",
      "unique           3\n",
      "top       New York\n",
      "freq             1\n",
      "Name: City, dtype: object\n"
     ]
    }
   ],
   "source": [
    "# Basic statistics on the DataFrame\n",
    "print(df['Age'].describe())  # Summary stats for Age column\n",
    "print(\"\\n\")\n",
    "print(df[\"Name\"].describe())\n",
    "print(\"\\n\")\n",
    "print(df[\"City\"].describe())"
   ]
  },
  {
   "cell_type": "markdown",
   "id": "e05fa84b",
   "metadata": {},
   "source": [
    "#### Key Points:\n",
    "- `describe()` gives count, mean, std deviation, min, 25th percentile, median, 75th percentile, and max.\n",
    "- Useful for initial exploratory analysis.\n"
   ]
  },
  {
   "cell_type": "markdown",
   "id": "b2ecd67d",
   "metadata": {},
   "source": [
    "## <center>  Regular Expressions <center>"
   ]
  },
  {
   "cell_type": "markdown",
   "id": "9be5ea1f",
   "metadata": {},
   "source": [
    "### 1. Definition and Purpose of Metacharacters\n",
    "- Metacharacters are special characters in regular expressions that have a specific meaning and are not treated as literals.\n",
    "- Common metacharacters include: . ^ $ * + ? { } [ ] \\ | ( )"
   ]
  },
  {
   "cell_type": "markdown",
   "id": "e49a0513",
   "metadata": {},
   "source": [
    "#### Key Points:\n",
    "- Metacharacters give regular expressions their power and flexibility.\n",
    "- They allow for more advanced and specific pattern matching.\n"
   ]
  },
  {
   "cell_type": "markdown",
   "id": "01b4b2a5",
   "metadata": {},
   "source": [
    "### 2. Basic Pattern Matching Using Python's re Module"
   ]
  },
  {
   "cell_type": "code",
   "execution_count": 21,
   "id": "4ce2f558",
   "metadata": {},
   "outputs": [
    {
     "name": "stdout",
     "output_type": "stream",
     "text": [
      "Match found: 123-45-6789\n"
     ]
    }
   ],
   "source": [
    "import re\n",
    "\n",
    "pattern = r\"\\d{3}-\\d{2}-\\d{4}\"  # Matches Social Security Number format\n",
    "result = re.search(pattern, \"Her SSN is 123-45-6789.\")\n",
    "\n",
    "if result:\n",
    "    print(\"Match found:\", result.group())\n",
    "else:\n",
    "    print(\"Match not found.\")"
   ]
  },
  {
   "cell_type": "markdown",
   "id": "ee668383",
   "metadata": {},
   "source": [
    "#### Key Points:\n",
    "- Use the `re` module for regex operations in Python.\n",
    "- `re.search()` searches a string for a match, and returns a `Match` object if found.\n"
   ]
  },
  {
   "cell_type": "markdown",
   "id": "55b10274",
   "metadata": {},
   "source": [
    "### 3. E-Mail Pattern Matching"
   ]
  },
  {
   "cell_type": "code",
   "execution_count": 22,
   "id": "cf35ffc7",
   "metadata": {},
   "outputs": [],
   "source": [
    "import re\n",
    "\n",
    "# Define the email pattern\n",
    "email_pattern = r\"^[a-zA-Z0-9._%+-]+@[a-zA-Z0-9.-]+\\.[a-zA-Z]{2,}$\"\n",
    "\n",
    "email = \"example.email+filter@domain.com\""
   ]
  },
  {
   "cell_type": "markdown",
   "id": "61f523e4",
   "metadata": {},
   "source": [
    "\n",
    "#### Here's a breakdown of the pattern:\n",
    "\n",
    "- ### ^: Start of the string.\n",
    "\n",
    "- ### [a-zA-Z0-9._%+-]+: Matches the user part of the email. It can include letters (both lower and upper case), numbers, dots, underscores, percentages, pluses, and hyphens.\n",
    "\n",
    "- ### @: Literal match for the @ symbol.\n",
    "\n",
    "- ### [a-zA-Z0-9.-]+: Matches the domain part of the email before the dot. It can include letters (both lower and upper case), numbers, dots, and hyphens.\n",
    "\n",
    "- ### \\.: Literal match for the dot (.) symbol.\n",
    "\n",
    "- ### [a-zA-Z]{2,}: Matches the top-level domain (like com, org, net). It consists of at least two letters.\n",
    "\n",
    "- ### $: End of the string.\n",
    "\n",
    "\n",
    "\n"
   ]
  },
  {
   "cell_type": "code",
   "execution_count": 23,
   "id": "452a961a",
   "metadata": {},
   "outputs": [
    {
     "name": "stdout",
     "output_type": "stream",
     "text": [
      "Valid email!\n"
     ]
    }
   ],
   "source": [
    "result = re.match(email_pattern, email)\n",
    "\n",
    "if result:\n",
    "    print(\"Valid email!\")\n",
    "else:\n",
    "    print(\"Invalid email!\")"
   ]
  },
  {
   "cell_type": "markdown",
   "id": "df9ff128",
   "metadata": {},
   "source": [
    "> #### We use the match function from the re module to check if the entire email string conforms to the pattern. If it does, match returns a match object; otherwise, it returns None."
   ]
  },
  {
   "cell_type": "markdown",
   "id": "1edba330",
   "metadata": {},
   "source": [
    "## <center>  Web Scraping <center>"
   ]
  },
  {
   "cell_type": "markdown",
   "id": "694e4bb7",
   "metadata": {},
   "source": [
    "### 1. Basics\n",
    "- Web scraping is the process of extracting data from web pages.\n",
    "- It involves parsing the HTML content of the page."
   ]
  },
  {
   "cell_type": "code",
   "execution_count": 24,
   "id": "5e716676",
   "metadata": {},
   "outputs": [
    {
     "name": "stdout",
     "output_type": "stream",
     "text": [
      "Apple\n"
     ]
    }
   ],
   "source": [
    "# This is a basic example using Python's BeautifulSoup library.\n",
    "\n",
    "from bs4 import BeautifulSoup\n",
    "import requests\n",
    "\n",
    "url = \"https://www.apple.com\"\n",
    "# response = requests.get(url)\n",
    "response = requests.get(url)\n",
    "soup = BeautifulSoup(response.content, 'html.parser')\n",
    "\n",
    "title = soup.title.string\n",
    "print(title)"
   ]
  },
  {
   "cell_type": "code",
   "execution_count": 25,
   "id": "7331f4e4",
   "metadata": {},
   "outputs": [
    {
     "name": "stdout",
     "output_type": "stream",
     "text": [
      "['', '', '', '', '', '', '', '', '', '', '', '', '', 'Apple', '', '', '', '', '', '', '', '', '', '', '', '', '', '', '', '', '', '', 'Apple', '', 'AppleStoreMaciPadiPhoneWatchVisionAirPodsTV & HomeEntertainmentAccessoriesSupport', '', '', '0+', '', '', '', '', '', '', '', '', '', '\\t\\t\\t\\t\\t\\t\\t\\t\\tGet $200–$650 in credit toward iPhone\\xa015 or\\xa0iPhone\\xa015\\xa0Pro when you trade in iPhone\\xa011 or\\xa0higher.1 See\\xa0what\\xa0your\\xa0device\\xa0is\\xa0worth', '', '', '', '', '', '', '', '', '', '', '\\xa0', '', 'iPhone 15 Pro', 'Titanium. So strong. So light. So Pro.', 'Available\\xa0starting\\xa09.22', '', 'Learn more', 'Pre-order', '', '', '', '', '', '', '', '', '', '', '', '', '\\xa0', '', 'iPhone 15', 'New camera. New design. Newphoria.', 'Available\\xa0starting\\xa09.22', '', 'Learn more', 'Pre-order', '', '', '', '', '', '', '', '', '', '', '', '', '\\xa0', '', 'Apple Watch Series 9', 'Smarter. Brighter. Mightier.', 'Available starting 9.22', '', 'Learn more', 'Order now', '', '', '', '', '', '', '', '', '', '', '', '', '', '', '\\xa0', '', 'Apple Watch Ultra 2', 'Next level adventure.', 'Available starting 9.22', '', 'Learn more', 'Order now', '', '', '', '', '', '', '', '', '', '', '', '', '\\xa0', '', 'Carbon Neutral', 'A first for Apple\\xa0Watch. And Apple.', '', 'Learn more', 'Watch the film', '', '', '', '', '', '', '', '', '', '', '', '', '\\xa0', '', 'Apple Watch SE', 'A great deal to love.', 'Available starting 9.22', '', 'Learn more', 'Order now', '', '', '', '', '', '', '', '', '', '', '', '', '\\xa0', '\\t\\t\\t\\t\\t\\t\\t\\t\\t', '', 'Save on Mac or iPad for\\xa0college.', '', '\\t\\t\\t\\t\\t\\t\\t\\t\\t\\t\\tPlus get a gift card up to $150.2', '', '', 'Shop now', '', '', '', '', '', '\\t\\t\\t\\t\\t\\t\\t\\t\\t\\t\\t\\tAn image of a MacBook Air, iPad, and Apple Store Gift Card walking.', '\\t\\t\\t\\t\\t\\t\\t\\t\\t\\t\\t', '', '\\t\\t\\t\\t\\t\\t\\t\\t\\t\\t\\t\\tAn animation of a MacBook Air, iPad, and Apple Store Gift Card walking.', '\\t\\t\\t\\t\\t\\t\\t\\t\\t\\t\\t', '', '', '', '', '', '', '', '', '', '', '', '', '', '', '', '', '', '\\xa0', '', 'AirPods Pro', 'Adaptive Audio. Now playing.', 'Available starting 9.22', '', 'Learn more', 'Order now', '', '', '', '', '', '', '', '', '', '', '', '', '\\xa0', '', '', 'Apple TV plus', '', '', 'The Morning Show', '', 'Start streaming Season 3 now', '', '', '', '', '', '', '', '', '', '', '', '', '', '\\xa0', '', 'Apple Card', 'Get up to 3% Daily\\xa0Cash back with every purchase.', '', 'Learn more', 'Apply now', 'Apply now', '', '', '', '', '', '', '', '', '', '', '', '', '', '', '', 'Apple TV+', '', '', '', '', '', '', '', '', '', '', '', '', '', '', '', '', '', '', '', '', '', '', '', '', '', '', '', '', '', '', '', '', '', 'Apple Footer', '', '', '1. Trade-in values will vary based on the condition, year, and configuration of your eligible trade-in device. Not all devices are eligible for credit. You must be at least 18 years old to be eligible to trade in for credit or for an Apple\\xa0Gift\\xa0Card. Trade-in value may be applied toward qualifying new device purchase, or added to an Apple\\xa0Gift\\xa0Card. Actual value awarded is based on receipt of a qualifying device matching the description provided when estimate was made. Sales tax may be assessed on full value of a new device purchase. In-store trade-in requires presentation of a valid photo ID (local law may require saving this information). Offer may not be available in all stores, and may vary between in-store and online trade-in. Some stores may have additional requirements. Apple or its trade-in partners reserve the right to refuse or limit quantity of any trade-in transaction for any reason. More details are available from Apple’s trade-in partner for trade-in and recycling of eligible devices. Restrictions and limitations may apply.', '2. Qualified\\xa0Purchasers receive an Apple\\xa0Gift\\xa0Card when they purchase an eligible Mac or iPad at a Qualifying\\xa0Location. Only one Apple\\xa0Gift\\xa0Card per eligible Mac or iPad per Qualified\\xa0Purchaser. Offer subject to availability. While supplies last. View full terms and conditions of offer here.', '', 'To access and use all Apple\\xa0Card features and products available only to Apple\\xa0Card users, you must add Apple\\xa0Card to Wallet on an iPhone or iPad that supports and has the latest version of iOS or iPadOS. Apple\\xa0Card is subject to credit approval, available only for qualifying applicants in the United States, and issued by Goldman Sachs Bank USA, Salt Lake City Branch. ', 'If you reside in the U.S. territories, please call Goldman Sachs at 877-255-5923 with questions about Apple\\xa0Card.', 'Learn more about how Apple\\xa0Card applications are evaluated at support.apple.com/kb/HT209218.', 'A subscription is required for Apple\\xa0TV+.', '', 'Major League Baseball trademarks and copyrights are used with permission of MLB Advanced Media, L.P. All rights reserved.', '', '', '', '', '', '', '', '', 'Shop and Learn', '', 'Shop and Learn', '+', '', '', '', 'Store', 'Mac', 'iPad', 'iPhone', 'Watch', 'Vision', 'AirPods', 'TV & Home', 'AirTag', 'Accessories', 'Gift Cards', '', '', '', '', 'Apple Wallet', '', 'Apple Wallet', '+', '', '', '', 'Wallet', 'Apple\\xa0Card', 'Apple\\xa0Pay', 'Apple\\xa0Cash', '', '', '', '', '', '', 'Account', '', 'Account', '+', '', '', '', 'Manage Your Apple\\xa0ID', 'Apple Store Account', 'iCloud.com', '', '', '', '', 'Entertainment', '', 'Entertainment', '+', '', '', '', 'Apple\\xa0One', 'Apple\\xa0TV+', 'Apple\\xa0Music', 'Apple\\xa0Arcade', 'Apple\\xa0Fitness+', 'Apple\\xa0News+', 'Apple Podcasts', 'Apple\\xa0Books', 'App\\xa0Store', '', '', '', '', '', '', 'Apple Store', '', 'Apple Store', '+', '', '', '', 'Find a Store', 'Genius Bar', 'Today at Apple', 'Apple Camp', 'Apple Store App', 'Certified Refurbished', 'Apple\\xa0Trade\\xa0In', 'Financing', 'Carrier Deals at Apple', 'Order Status', 'Shopping Help', '', '', '', '', '', '', 'For Business', '', 'For Business', '+', '', '', '', 'Apple and Business', 'Shop for Business', '', '', '', '', 'For Education', '', 'For Education', '+', '', '', '', 'Apple and Education', 'Shop for K-12', 'Shop for College', '', '', '', '', 'For Healthcare', '', 'For Healthcare', '+', '', '', '', 'Apple in Healthcare', 'Health on Apple\\xa0Watch', 'Health Records on iPhone', '', '', '', '', 'For Government', '', 'For Government', '+', '', '', '', 'Shop for Government', 'Shop for Veterans and Military', '', '', '', '', '', '', 'Apple Values', '', 'Apple Values', '+', '', '', '', 'Accessibility', 'Education', 'Environment', 'Inclusion and Diversity', 'Privacy', 'Racial Equity and Justice', 'Supplier Responsibility', '', '', '', '', 'About Apple', '', 'About Apple', '+', '', '', '', 'Newsroom', 'Apple Leadership', 'Career Opportunities', 'Investors', 'Ethics & Compliance', 'Events', 'Contact Apple', '', '', '', '', '', '', '', '\\t\\t\\tMore ways to shop: Find an Apple Store or other retailer near you. Or call 1-800-MY-APPLE.', '', '', 'United States', '', '', 'Copyright ©', '\\t\\t\\t\\t', '\\t\\t\\t\\t2023', '\\t\\t\\t\\t Apple Inc. All rights reserved.', '\\t\\t\\t', '', '', 'Privacy Policy', '', '', 'Terms of Use', '', '', 'Sales and Refunds', '', '', 'Legal', '', '', 'Site Map', '', '', '', '', '', '', '', '', '', '', '', '', '', '', '', '', '', '']\n"
     ]
    }
   ],
   "source": [
    "print(soup.getText().splitlines())"
   ]
  },
  {
   "cell_type": "markdown",
   "id": "0eccaacb",
   "metadata": {},
   "source": [
    "#### Key Points:\n",
    "- Web scraping uses HTTP requests to fetch web pages.\n",
    "- Libraries like BeautifulSoup can parse and navigate HTML content.\n"
   ]
  },
  {
   "cell_type": "markdown",
   "id": "0015dd28",
   "metadata": {},
   "source": [
    "### 2. Ethics\n",
    "- Not all websites appreciate or allow scraping. Respect robots.txt and terms of service.\n",
    "- Overloading a server with rapid, frequent requests is unethical and can be illegal.\n",
    "\n",
    "#### Key Points:\n",
    "- Always check `robots.txt` of a website before scraping.\n",
    "- Avoid causing harm or inconvenience. Rate-limit your requests.\n"
   ]
  },
  {
   "cell_type": "code",
   "execution_count": 26,
   "id": "a99aaf63",
   "metadata": {},
   "outputs": [
    {
     "name": "stdout",
     "output_type": "stream",
     "text": [
      "# robots.txt for http://www.apple.com/\n",
      "\n",
      "User-agent: *\n",
      "Disallow: /*/includes/*\n",
      "Disallow: /*retail/availability*\n",
      "Disallow: /*retail/availabilitySearch*\n",
      "Disallow: /*retail/pickupEligibility*\n",
      "Disallow: /*shop/signed_in_account*\n",
      "Disallow: /*shop/sign_in*\n",
      "Disallow: /*shop/sign_out*\n",
      "Disallow: /*shop/answer/vote*\n",
      "Disallow: /*shop/bag*\n",
      "Disallow: /*shop/browse/overlay/*\n",
      "Disallow: /*shop/browse/ribbon/*\n",
      "Disallow: /*shop/browse/campaigns/mobile_overlay*\n",
      "Disallow: /*shop/button_availability*\n",
      "Disallow: /*shop/favorites*\n",
      "Disallow: /*shop/iphone/payments/overlay/*\n",
      "Disallow: /*shop/mobile/olss_error*\n",
      "Disallow: /*shop/mobilex/*\n",
      "Disallow: /*shop/np/order*\n",
      "Disallow: /*shop/np/giftorguestorder*\n",
      "Disallow: /*shop/np/sign_in*\n",
      "Disallow: /*shop/order/*\n",
      "Disallow: /*shop/rs-mvt/rel/*\n",
      "Disallow: /*shop/sentry*\n",
      "Disallow: /*shop/store/feeds/*\n",
      "Disallow: /*shop/variationSelection\n",
      "Disallow: /*_adc_*/shop/\n",
      "Disallow: /*_aoc_*/shop/\n",
      "Disallow: /*_enterprise*/shop/\n",
      "Disallow: /*_internal-epp-discounted*/shop/\n",
      "Disallow: /*_k12nonbts*/shop/\n",
      "Disallow: /*_kiosk*/shop/\n",
      "Disallow: /*_nonbts*/shop/\n",
      "Disallow: /*_qpromo*/shop/\n",
      "Disallow: /*_refurb-discounted*/shop/\n",
      "Disallow: /cn/*/aow/*\n",
      "Disallow: /go/awards/*\n",
      "Disallow: /newsroom/notifications/*\n",
      "Disallow: /tmall*\n",
      "Allow: /ac/globalnav/2.0/*/images/ac-globalnav/globalnav/search/* \t\n",
      "\n",
      "User-agent: Baiduspider\n",
      "Disallow: /*\n",
      "Allow: /cn/*\n",
      "Allow: /cn-edu/*\n",
      "Allow: /cn-k12/*\n",
      "\n",
      "User-agent: HaoSouSpider\n",
      "Disallow: */product-red/\n",
      "Disallow: /*/retail/availability*\n",
      "Disallow: /*/retail/availabilitySearch*\n",
      "Disallow: /*/retail/pickupEligibility*\n",
      "Disallow: /*/shop/account/setup*\n",
      "Disallow: /*/shop/answer/vote*\n",
      "Disallow: /*/shop/browse/campaigns/mobile_overlay*\n",
      "Disallow: /*/shop/button_availability*\n",
      "Disallow: /*/shop/bag*\n",
      "Disallow: /*/shop/change_password*\n",
      "Disallow: /*/shop/checkout*\n",
      "Disallow: /*/shop/create_account*\n",
      "Disallow: /*/shop/favorites*\n",
      "Disallow: /*/shop/identify_user*\n",
      "Disallow: /*/shop/mobile/checkout/start*\n",
      "Disallow: /*/shop/mobilex/*\n",
      "Disallow: /*shop/np/order*\n",
      "Disallow: /*shop/np/giftorguestorder*\n",
      "Disallow: /*shop/np/sign_in*\n",
      "Disallow: /*/shop/rs-mvt/rel/*\n",
      "Disallow: /*/shop/sentry*\n",
      "Disallow: /*/shop/sentryx/change_password*\n",
      "Disallow: /*/shop/sentryx/create_account*\n",
      "Disallow: /*/shop/sentryx/create_account_confirm*\n",
      "Disallow: /*/shop/sentryx/identify_user*\n",
      "Disallow: /*/shop/sentryx/sign_in*\n",
      "Disallow: /*/shop/signed_in_account*\n",
      "Disallow: /*/shop/sign_in*\n",
      "Disallow: /*/shop/sign_out*\n",
      "Disallow: /*/shop/storeConfig*\n",
      "Disallow: /*/shop/variationSelection*\n",
      "Disallow: /*/shop/vieworder*\n",
      "Disallow: /apple-watch-nike/\n",
      "Disallow: /apple-watch-hermes/\n",
      "Disallow: /cn/*/aow/*\n",
      "Disallow: /newsroom/notifications/*\n",
      "Disallow: /retail/availability*\n",
      "Disallow: /retail/availabilitySearch*\n",
      "Disallow: /retail/pickupEligibility*\n",
      "Disallow: /shop/bag*\n",
      "Disallow: /tmall/*\n",
      "Disallow: /cn_cmb*\n",
      "Disallow: /cn_abc*\n",
      "Disallow: /cn_icbc*\n",
      "Disallow: /cn_ccb*\n",
      "\n",
      "User-agent: Sogou web spider\n",
      "Disallow: /*\n",
      "Allow: /cn/*\n",
      "Allow: /cn-k12/*\n",
      "\n",
      "User-agent: Sogou inst spider\n",
      "Disallow: /*\n",
      "Allow: /cn/*\n",
      "Allow: /cn-k12/*\n",
      "\n",
      "User-agent: Sogou spider2\n",
      "Disallow: /*\n",
      "Allow: /cn/*\n",
      "Allow: /cn-k12/*\n",
      "\n",
      "#DaumWebMasterTool:fe46641ef2e4f3f25544ad9d70c6029df24dd184fad54154abaa3c263cf5a09a:h7Tb+WCGBcuKBnKRAHQGEQ==\n",
      "\n",
      "Sitemap: https://www.apple.com/shop/sitemap.xml\n",
      "Sitemap: https://www.apple.com/autopush/robots/compare-sitemap.xml\n",
      "Sitemap: https://www.apple.com/autopush/sitemap/sitemap-index.xml\n",
      "Sitemap: https://www.apple.com/newsroom/sitemap.xml\n",
      "Sitemap: https://www.apple.com/retail/sitemap/sitemap.xml\n",
      "Sitemap: https://www.apple.com/today/sitemap.xml\n",
      "\n"
     ]
    }
   ],
   "source": [
    "url = \"https://www.apple.com/robots.txt\"\n",
    "response = requests.get(url)\n",
    "\n",
    "\n",
    "# Ensure that we successfully fetched the data\n",
    "if response.status_code == 200:\n",
    "    print(response.text)\n",
    "else:\n",
    "    print(f\"Failed to retrieve the content. HTTP Status Code: {response.status_code}\")\n"
   ]
  },
  {
   "cell_type": "markdown",
   "id": "1cb0f49d",
   "metadata": {},
   "source": [
    "#### The robots.txt  you primarily tells the Sogou inst spider and Sogou spider2 to avoid crawling most parts of the website, except for certain sections meant for Chinese audiences (/cn/ and /cn-k12/). The file also indicates the presence of several sitemaps which provide structured lists of URLs for web crawlers to access.\n",
    "> #### Website scraped: www.apple.com\n",
    "\n",
    "> #### Date:16/SEP/2023"
   ]
  },
  {
   "cell_type": "markdown",
   "id": "88db2515",
   "metadata": {},
   "source": [
    "### 3. Dynamic Websites\n",
    "- Many modern websites load content dynamically using JavaScript.\n",
    "- Traditional scraping tools can't capture this dynamic content. Tools like Selenium can automate browsers to capture such content."
   ]
  },
  {
   "cell_type": "code",
   "execution_count": null,
   "id": "fbeff61f",
   "metadata": {
    "scrolled": true
   },
   "outputs": [],
   "source": [
    "# pip install selenium"
   ]
  },
  {
   "cell_type": "code",
   "execution_count": null,
   "id": "0efcb40a",
   "metadata": {
    "scrolled": false
   },
   "outputs": [],
   "source": [
    "# pip install webdriver_manager"
   ]
  },
  {
   "cell_type": "code",
   "execution_count": 11,
   "id": "2139160f",
   "metadata": {},
   "outputs": [
    {
     "name": "stdout",
     "output_type": "stream",
     "text": [
      "“The world as we have created it is a process of our thinking. It cannot be changed without changing our thinking.”\n",
      "“It is our choices, Harry, that show what we truly are, far more than our abilities.”\n",
      "“There are only two ways to live your life. One is as though nothing is a miracle. The other is as though everything is a miracle.”\n",
      "“The person, be it gentleman or lady, who has not pleasure in a good novel, must be intolerably stupid.”\n",
      "“Imperfection is beauty, madness is genius and it's better to be absolutely ridiculous than absolutely boring.”\n",
      "“Try not to become a man of success. Rather become a man of value.”\n",
      "“It is better to be hated for what you are than to be loved for what you are not.”\n",
      "“I have not failed. I've just found 10,000 ways that won't work.”\n",
      "“A woman is like a tea bag; you never know how strong it is until it's in hot water.”\n",
      "“A day without sunshine is like, you know, night.”\n"
     ]
    }
   ],
   "source": [
    "from selenium import webdriver\n",
    "from selenium.webdriver.common.by import By  # Importing By\n",
    "from webdriver_manager.chrome import ChromeDriverManager\n",
    "import time\n",
    "\n",
    "# Automatically download and use the latest ChromeDriver\n",
    "driver = webdriver.Chrome()\n",
    "\n",
    "# Navigate to the website\n",
    "driver.get('http://quotes.toscrape.com/js/')\n",
    "\n",
    "# Give the JavaScript some time to load the dynamic content\n",
    "time.sleep(2)  # 2 seconds delay\n",
    "\n",
    "# Extract quotes from the website using the new method\n",
    "quotes = driver.find_elements(By.CSS_SELECTOR, '.quote .text')\n",
    "\n",
    "for quote in quotes:\n",
    "    print(quote.text)\n",
    "\n",
    "# Close the browser\n",
    "driver.quit()"
   ]
  },
  {
   "cell_type": "markdown",
   "id": "60289e6b",
   "metadata": {},
   "source": [
    "\n",
    "> #### Website scraped: http://quotes.toscrape.com/js/\n",
    "\n",
    "> #### Date:16/SEP/2023"
   ]
  },
  {
   "cell_type": "markdown",
   "id": "43f6a272",
   "metadata": {},
   "source": [
    "#### Key Points:\n",
    "- Dynamic content is loaded on-the-fly, often after the initial page load.\n",
    "- Selenium automates a browser, allowing capture of dynamic content.\n"
   ]
  },
  {
   "cell_type": "markdown",
   "id": "131920be",
   "metadata": {},
   "source": [
    "## <center>  SQL <center>\n",
    "- SQL is a domain-specific language designed to manage and query data held in relational databases.\n",
    "- Users can perform tasks like adding, retrieving, and updating data."
   ]
  },
  {
   "cell_type": "markdown",
   "id": "782f2f4d",
   "metadata": {},
   "source": [
    "### 1. Basic Commands"
   ]
  },
  {
   "cell_type": "markdown",
   "id": "18fb54b2",
   "metadata": {},
   "source": [
    "### *CREATE*\n",
    "> CREATE TABLE table_name (column1 datatype, column2 datatype, ...);\n",
    "------------------------ \n",
    "\n",
    "### *INSERT*\n",
    "> INSERT INTO table_name (column1, column2, ...) VALUES (value1, value2, ...);\n",
    "------------------------ \n",
    "\n",
    "### *SELECT*\n",
    "> SELECT column1, column2, ... FROM table_name;\n",
    "\n",
    "> SELECT column1, column2, ... FROM table_name WHERE condition;\n",
    "\n",
    "### *UPDATE*\n",
    "> UPDATE table_name SET column1 = value1, column2 = value2, ... WHERE condition;\n",
    "------------------------ \n",
    "\n",
    "### *DELETE*\n",
    "> DELETE FROM table_name WHERE condition;\n",
    "------------------------ \n",
    "\n",
    "### *DROP*\n",
    "> DROP TABLE table_name;"
   ]
  },
  {
   "cell_type": "markdown",
   "id": "2b7c7f95",
   "metadata": {},
   "source": [
    "#### Key Points:\n",
    "- `CREATE` Creates a new table, view, or other database objects.\n",
    "- `INSERT` Adds new records into a table.\n",
    "- `SELECT` Retrieves data from a database.\n",
    "- `WHERE` Filters records based on one or more condition.\n",
    "- `UPDATE` Modifies existing records in a table.\n",
    "- `DELETE` Removes records from a table.\n",
    "- `DROP` Deletes an existing table in a database."
   ]
  },
  {
   "cell_type": "markdown",
   "id": "037360d1",
   "metadata": {},
   "source": [
    "### 2. Advanced SQL Commands\n",
    "\n",
    "### *JOIN*\n",
    "Types include \n",
    "  1. INNER JOIN \n",
    "  2. LEFT JOIN\n",
    "  3. RIGHT JOIN\n",
    "  4. FULL JOIN.\n"
   ]
  },
  {
   "cell_type": "markdown",
   "id": "76f786c2",
   "metadata": {},
   "source": [
    "#### Key Points:\n",
    "- `JOIN` Combines rows from two or more tables based on related columns.\n",
    "- `GROUP BY` Groups rows with the same values in specified columns.\n",
    "- `HAVING` Filters the result of a GROUP BY operation.\n",
    "- `ORDER BY` Sorts the result set based on specified columns.\n",
    "- `ALTER` Modifies an existing table, such as adding or deleting columns."
   ]
  },
  {
   "cell_type": "markdown",
   "id": "4a888bbd",
   "metadata": {},
   "source": [
    "## 3. SQL Injection Attacks\n",
    "- SQL Injection is a technique where attackers can insert malicious SQL code into a query. It capitalizes on inadequate input validation in applications, leading to unauthorized data access or corruption.\n",
    "\n",
    "\n",
    "\n",
    "## Prevention:\n",
    "### 1. Sanitize Inputs: Ensure all user inputs are sanitized before they're processed.\n",
    "\n",
    "### 2. Parameterized Queries: Use parameterized queries or prepared statements to separate SQL logic and data, eliminating the risk of malicious data altering the query structure.\n",
    "   \n",
    "### 3. Least Privilege Principle: Give the minimum required permissions to the database accounts. If a user doesn’t need to drop tables, they shouldn’t have that permission.\n",
    "\n",
    "### 4. Regular Audits: Periodically review and audit your code and databases for vulnerabilities."
   ]
  },
  {
   "cell_type": "markdown",
   "id": "3475561b",
   "metadata": {},
   "source": [
    "## <center> Testing & Version Control <center>"
   ]
  },
  {
   "cell_type": "markdown",
   "id": "b4f4507f",
   "metadata": {},
   "source": [
    "### 1. Unit Testing\n",
    "- Unit testing involves testing individual units or components of a software in isolation.\n",
    "- The primary aim is to ensure each unit functions correctly."
   ]
  },
  {
   "cell_type": "code",
   "execution_count": 39,
   "id": "a2b7cc4b",
   "metadata": {},
   "outputs": [
    {
     "name": "stderr",
     "output_type": "stream",
     "text": [
      "\n",
      "----------------------------------------------------------------------\n",
      "Ran 0 tests in 0.000s\n",
      "\n",
      "OK\n",
      ".\n",
      "----------------------------------------------------------------------\n",
      "Ran 1 test in 0.001s\n",
      "\n",
      "OK\n"
     ]
    }
   ],
   "source": [
    "# Basic example using Python's built-in unittest module.\n",
    "import unittest\n",
    "\n",
    "unittest.main(argv=['first-arg-is-ignored'], exit=False)\n",
    "\n",
    "def add(a, b):\n",
    "    return a + b\n",
    "\n",
    "class TestAdditionFunction(unittest.TestCase):\n",
    "    def test_add(self):\n",
    "        self.assertEqual(add(2, 3), 5)\n",
    "\n",
    "if __name__ == \"__main__\":\n",
    "    unittest.main(argv=['first-arg-is-ignored'], exit=False)\n"
   ]
  },
  {
   "cell_type": "markdown",
   "id": "f4fcf08c",
   "metadata": {},
   "source": [
    "#### Key Points:\n",
    "- Unit tests check the correctness of individual functions or methods.\n",
    "- They should be isolated from external factors like databases or network services.\n"
   ]
  },
  {
   "cell_type": "markdown",
   "id": "7580c89f",
   "metadata": {},
   "source": [
    "### 2. Git (Version Control)\n",
    "- Git is a distributed version control system.\n",
    "- It tracks changes in source code, allowing multiple people to collaborate efficiently."
   ]
  },
  {
   "cell_type": "code",
   "execution_count": null,
   "id": "8413033e",
   "metadata": {},
   "outputs": [],
   "source": [
    "# Sample Git Commands\n",
    "git init      # Initialize a new git repository\n",
    "git log       # View commit logs\n",
    "git commit -m \"Initial commit\" # Commit changes with a message"
   ]
  },
  {
   "cell_type": "markdown",
   "id": "fd36f54b",
   "metadata": {},
   "source": [
    "#### Key Points:\n",
    "- Version control systems, like Git, track and manage changes in code.\n",
    "- Distributed systems (e.g., Git) allow every user to have a full copy of the repository, while centralized systems have one central repository.\n",
    "- Basic git commands: `git init`, `git log`, `git commit`, etc.\n"
   ]
  },
  {
   "cell_type": "markdown",
   "id": "b4ea81dc",
   "metadata": {},
   "source": [
    "### <center> Data Visualization <center>\n",
    "\n",
    "\n",
    "##### Data visualization is the graphical representation of data. By visualizing data, one can recognize patterns, trends, and correlations that might go unnoticed in text-based data."
   ]
  },
  {
   "cell_type": "markdown",
   "id": "c550c298",
   "metadata": {},
   "source": [
    "### Different Types of Visualizations and Their Use-Cases\n",
    "\n",
    "- There are numerous types of visualizations, each suitable for representing different kinds of data. Let's briefly touch upon a few:\n",
    "\n",
    "### Line Charts: Ideal for showing trends over time.\n",
    "> ### plt.plot( xValues[ ], yValues[ ] )\n"
   ]
  },
  {
   "cell_type": "code",
   "execution_count": 4,
   "id": "f677fda0",
   "metadata": {},
   "outputs": [
    {
     "data": {
      "image/png": "[encoded data removed]",
      "text/plain": [
       "<Figure size 432x288 with 1 Axes>"
      ]
     },
     "metadata": {
      "needs_background": "light"
     },
     "output_type": "display_data"
    }
   ],
   "source": [
    "# Code example for Line Chart using Python's Matplotlib\n",
    "import matplotlib.pyplot as plt\n",
    "\n",
    "time = [0, 1, 2, 3, 4]\n",
    "values = [1, 2, 1.5, 2.5, 3]\n",
    "plt.plot(time, values)\n",
    "plt.xlabel('Time')\n",
    "plt.ylabel('Value')\n",
    "plt.title('Line Chart Example')\n",
    "plt.show()"
   ]
  },
  {
   "cell_type": "markdown",
   "id": "eb6da6fb",
   "metadata": {},
   "source": [
    "#### Bar Charts: Useful for comparing quantities across categories.\n",
    "> ### plt.bar( xValues[ ], yValues[ ] )"
   ]
  },
  {
   "cell_type": "code",
   "execution_count": 5,
   "id": "c1e825d0",
   "metadata": {},
   "outputs": [
    {
     "data": {
      "image/png": "[encoded data removed]",
      "text/plain": [
       "<Figure size 432x288 with 1 Axes>"
      ]
     },
     "metadata": {
      "needs_background": "light"
     },
     "output_type": "display_data"
    }
   ],
   "source": [
    "# Code example for Bar Chart\n",
    "categories = ['Category 1', 'Category 2', 'Category 3']\n",
    "values = [10, 15, 5]\n",
    "plt.bar(categories, values)\n",
    "plt.title('Bar Chart Example')\n",
    "plt.show()"
   ]
  },
  {
   "cell_type": "markdown",
   "id": "bbfe726b",
   "metadata": {},
   "source": [
    "#### Pie Charts: Great for showing proportional data, representing percentages of a whole.\n",
    "> ### plt.pie( Values[ ], *labels=*Names[ ],..*optionals*)"
   ]
  },
  {
   "cell_type": "code",
   "execution_count": 6,
   "id": "68868b4d",
   "metadata": {},
   "outputs": [
    {
     "data": {
      "image/png": "[encoded data removed]",
      "text/plain": [
       "<Figure size 432x288 with 1 Axes>"
      ]
     },
     "metadata": {},
     "output_type": "display_data"
    }
   ],
   "source": [
    "# Code example for Pie Chart\n",
    "labels = ['A', 'B', 'C']\n",
    "sizes = [15, 30, 55]\n",
    "plt.pie(sizes, labels=labels, autopct='%1.1f%%')\n",
    "plt.title('Pie Chart Example')\n",
    "plt.show()"
   ]
  },
  {
   "cell_type": "markdown",
   "id": "0013b6f5",
   "metadata": {},
   "source": [
    "#### Scatter Plots: Useful for showing the relationship between two continuous variables.\n",
    "> ### plt.scatter( xValues[ ], yValues[ ] )"
   ]
  },
  {
   "cell_type": "code",
   "execution_count": 7,
   "id": "68109b11",
   "metadata": {},
   "outputs": [
    {
     "data": {
      "image/png": "[encoded data removed]",
      "text/plain": [
       "<Figure size 432x288 with 1 Axes>"
      ]
     },
     "metadata": {
      "needs_background": "light"
     },
     "output_type": "display_data"
    }
   ],
   "source": [
    "# Code example for Scatter Plot\n",
    "x = [10, 20, 30, 40]\n",
    "y = [5, 15, 5, 10]\n",
    "plt.scatter(x, y)\n",
    "plt.xlabel('X values')\n",
    "plt.ylabel('Y values')\n",
    "plt.title('Scatter Plot Example')\n",
    "plt.show()"
   ]
  },
  {
   "cell_type": "markdown",
   "id": "080da891",
   "metadata": {},
   "source": [
    "### <center>  When 2D Might Be Preferable to 3D <center>\n",
    "\n",
    "### 2D visualizations are often preferable to 3D for several reasons:\n",
    "\n",
    "#### 1. Clarity: 2D visualizations tend to be more straightforward and easier to interpret.\n",
    "#### 2. Distortion:3D can sometimes distort data, giving a misleading representation.\n",
    "#### 3.Usability: 2D charts and graphs are generally more mobile-friendly and accessible.\n",
    "#### 4.Overcomplication: In many cases, adding a third dimension doesn't provide additional clarity and instead makes the graph more difficult to understand."
   ]
  },
  {
   "cell_type": "code",
   "execution_count": 8,
   "id": "56cb9f03",
   "metadata": {},
   "outputs": [
    {
     "data": {
      "image/png": "[encoded data removed]",
      "text/plain": [
       "<Figure size 432x288 with 1 Axes>"
      ]
     },
     "metadata": {
      "needs_background": "light"
     },
     "output_type": "display_data"
    },
    {
     "data": {
      "image/png": "[encoded data removed]",
      "text/plain": [
       "<Figure size 432x288 with 1 Axes>"
      ]
     },
     "metadata": {
      "needs_background": "light"
     },
     "output_type": "display_data"
    }
   ],
   "source": [
    "# Compare 2D and 3D visualization using Matplotlib\n",
    "\n",
    "import numpy as np\n",
    "\n",
    "# 2D visualization\n",
    "x = np.linspace(0, 10, 100)\n",
    "y = np.sin(x)\n",
    "plt.plot(x, y)\n",
    "plt.title('2D Visualization')\n",
    "plt.show()\n",
    "\n",
    "# 3D visualization\n",
    "fig = plt.figure()\n",
    "ax = fig.add_subplot(111, projection='3d')\n",
    "x = np.linspace(0, 10, 100)\n",
    "y = np.sin(x)\n",
    "z = np.cos(x)\n",
    "ax.plot(x, y, z)\n",
    "ax.set_title('3D Visualization')\n",
    "plt.show()"
   ]
  },
  {
   "cell_type": "markdown",
   "id": "a320077e",
   "metadata": {},
   "source": [
    "#### Key Points:\n",
    "    \n",
    "- Data visualization helps in understanding complex data by representing it graphically.\n",
    "- Line charts are for trends over time, bar charts for comparing quantities, pie charts show proportions, and scatter plots indicate relationships between variables.\n",
    "- 2D visualizations are often clearer and more user-friendly than 3D, avoiding potential distortion and overcomplication."
   ]
  },
  {
   "cell_type": "markdown",
   "id": "e6842f97",
   "metadata": {},
   "source": [
    "## <center>  HTTP and Web Technologies <center>\n",
    "- #### HTTP (Hypertext Transfer Protocol) is the foundation of any data exchange on the Web. It's a protocol that allows the fetching of resources, such as HTML documents. Let's dive into the basics and understand the importance of its various components."
   ]
  },
  {
   "cell_type": "markdown",
   "id": "e27fcb07",
   "metadata": {},
   "source": [
    "\n",
    "### Basics of HTTP\n",
    "- #### HTTP operates as a request-response protocol. A client sends a request, and the server, in turn, sends a response."
   ]
  },
  {
   "cell_type": "markdown",
   "id": "6199c50c",
   "metadata": {},
   "source": [
    "### Sample HTTP Request:\n",
    "\n",
    "> ### GET /index.html HTTP/1.1\n",
    "> #### Host: www.example.com"
   ]
  },
  {
   "cell_type": "markdown",
   "id": "c9d4f74f",
   "metadata": {},
   "source": [
    "### Sample HTTP Response:\n",
    "\n",
    "> ### HTTP/1.1 200 OK\n",
    "Date: Mon, 27 Jul 2009 12:28:53 GMT\n",
    "Server: Apache\n",
    "Last-Modified: Wed, 22 Jul 2009 19:15:56 GMT\n",
    "Content-Length: 88\n",
    "Content-Type: text/html\n",
    "\n",
    "<html>\n",
    "<body>\n",
    "    Hello, World!\n",
    "</body>\n",
    "</html>"
   ]
  },
  {
   "cell_type": "markdown",
   "id": "ce48f3bf",
   "metadata": {},
   "source": [
    "### Status Codes\n",
    "- #### HTTP status codes indicate the outcome of the HTTP request. They fall into classes: informational (1xx), successful (2xx), redirection (3xx), client errors (4xx), and server errors (5xx)."
   ]
  },
  {
   "cell_type": "code",
   "execution_count": 9,
   "id": "214fa24d",
   "metadata": {},
   "outputs": [
    {
     "name": "stdout",
     "output_type": "stream",
     "text": [
      "Status Code: 200\n"
     ]
    }
   ],
   "source": [
    "# Python code to make a GET request and check status code\n",
    "import requests\n",
    "\n",
    "response = requests.get('https://www.example.com')\n",
    "print(f\"Status Code: {response.status_code}\")"
   ]
  },
  {
   "cell_type": "markdown",
   "id": "5a48ea07",
   "metadata": {},
   "source": [
    "### Understanding Elements like Port Numbers in URLs\n",
    "\n",
    "- #### Every web server listens on a port, typically 80 for HTTP and 443 for HTTPS. A URL might sometimes include a port number, especially if it's a non-standard port.\n",
    "\n",
    "Example: http://www.example.com:8080/index.html\n",
    "\n",
    "## Here, the port number is 8080."
   ]
  },
  {
   "cell_type": "markdown",
   "id": "a8706b85",
   "metadata": {},
   "source": [
    "### Web Content Structures\n",
    "\n",
    "> ### Web pages can be static (the same for every user) or dynamic (adapted based on the user, context, or other parameters)."
   ]
  },
  {
   "cell_type": "markdown",
   "id": "ea577616",
   "metadata": {},
   "source": [
    "#### Static Web Pages\n",
    "- ##### They are fixed-content pages. Their content doesn't change unless it's manually updated by a developer."
   ]
  },
  {
   "cell_type": "markdown",
   "id": "c92e9371",
   "metadata": {},
   "source": [
    "#### Dynamic Web Pages\n",
    "- ##### Content changes based on user interactions, database interactions, or other parameters."
   ]
  },
  {
   "cell_type": "code",
   "execution_count": null,
   "id": "adf1ad58",
   "metadata": {},
   "outputs": [
    {
     "name": "stdout",
     "output_type": "stream",
     "text": [
      " * Serving Flask app \"__main__\" (lazy loading)\n",
      " * Environment: production\n",
      "\u001b[31m   WARNING: This is a development server. Do not use it in a production deployment.\u001b[0m\n",
      "\u001b[2m   Use a production WSGI server instead.\u001b[0m\n",
      " * Debug mode: off\n"
     ]
    },
    {
     "name": "stderr",
     "output_type": "stream",
     "text": [
      " * Running on http://127.0.0.1:5000/ (Press CTRL+C to quit)\n",
      "127.0.0.1 - - [16/Sep/2023 20:17:30] \"GET / HTTP/1.1\" 404 -\n",
      "127.0.0.1 - - [16/Sep/2023 20:19:22] \"GET /greet/John HTTP/1.1\" 200 -\n"
     ]
    }
   ],
   "source": [
    "# A simple dynamic web page using Python's Flask\n",
    "from flask import Flask\n",
    "\n",
    "app = Flask(__name__)\n",
    "\n",
    "@app.route('/greet/<name>')\n",
    "def greet(name):\n",
    "    return f\"Hello, {name}!\"\n",
    "\n",
    "if __name__ == \"__main__\":\n",
    "    app.run()"
   ]
  },
  {
   "cell_type": "markdown",
   "id": "581a387f",
   "metadata": {},
   "source": [
    "#### Key Points:\n",
    "- HTTP operates as a request-response protocol.\n",
    "- HTTP status codes indicate the outcome of a request.\n",
    "- Web servers listen on ports, typically 80 for HTTP and 443 for HTTPS.\n",
    "- Web pages can be static or dynamic. Static pages remain the same for every user, while dynamic ones change based on various parameters."
   ]
  },
  {
   "attachments": {
    "Screenshot%202023-09-16%20at%208.20.22%20PM.png": {
     "image/png": "[encoded data removed]"
    }
   },
   "cell_type": "markdown",
   "id": "3a476bd6",
   "metadata": {},
   "source": [
    "![Screenshot%202023-09-16%20at%208.20.22%20PM.png](attachment:Screenshot%202023-09-16%20at%208.20.22%20PM.png)"
   ]
  },
  {
   "cell_type": "markdown",
   "id": "94267322",
   "metadata": {},
   "source": [
    "\n",
    "\n",
    "## <center>  NumPy (Numerical Python) <center>\n",
    "- ### NumPy is a library for the Python programming language, allowing for efficient numerical operations on large arrays and matrices of numeric data. It provides a high-performance multidimensional array object and tools for working with these arrays. It's fundamental for scientific computing with Python and serves as the foundational package for many other scientific libraries, such as pandas, scikit-learn, and SciPy."
   ]
  },
  {
   "cell_type": "markdown",
   "id": "c61e9b5d",
   "metadata": {},
   "source": [
    "### Key Features:\n",
    "\n",
    "1. ### Multidimensional Arrays: At the core of the NumPy package is the ndarray object which encapsulates n-dimensional arrays of homogeneous data types.\n",
    "\n",
    "2. ### Broadcasting: A powerful feature that lets you perform arithmetic operations on arrays of different shapes.\n",
    "3. ### Mathematical Functions: NumPy provides a comprehensive set of mathematical functions to operate on these arrays.\n",
    "\n",
    "4. ### Linear Algebra: Contains built-in functions for linear algebra calculations.\n",
    "\n",
    "5. ### Integration with C/C++ and Fortran: NumPy can also be used as a flexible container for generic data to seamlessly integrate with legacy data."
   ]
  },
  {
   "cell_type": "code",
   "execution_count": 3,
   "id": "0b119be4",
   "metadata": {},
   "outputs": [
    {
     "name": "stdout",
     "output_type": "stream",
     "text": [
      "Array: [1 2 3 4 5]\n",
      "Mean: 3.0\n",
      "Reshaped Array:\n",
      " [[1]\n",
      " [2]\n",
      " [3]\n",
      " [4]\n",
      " [5]]\n",
      "\n",
      "\n",
      "Matrix 1:\n",
      " [[1 2]\n",
      " [3 4]]\n",
      "Matrix 2:\n",
      " [[2 2]\n",
      " [2 2]]\n",
      "\n",
      "\n",
      "Matrix Multiplication Result:\n",
      " [[ 6  6]\n",
      " [14 14]]\n"
     ]
    }
   ],
   "source": [
    "import numpy as np\n",
    "\n",
    "# Create a simple array\n",
    "arr = np.array([1, 2, 3, 4, 5])\n",
    "print(\"Array:\", arr)\n",
    "\n",
    "# Compute the mean\n",
    "mean_val = np.mean(arr)\n",
    "print(\"Mean:\", mean_val)\n",
    "\n",
    "# Reshape to a 2D array\n",
    "arr_2d = arr.reshape(5, 1)\n",
    "print(\"Reshaped Array:\\n\", arr_2d)\n",
    "\n",
    "# Matrix multiplication\n",
    "mat1 = np.array([[1, 2], [3, 4]])\n",
    "mat2 = np.array([[2, 2], [2, 2]])\n",
    "result = np.dot(mat1, mat2)\n",
    "print(\"\\n\")\n",
    "print(\"Matrix 1:\\n\", mat1)\n",
    "print(\"Matrix 2:\\n\", mat2)\n",
    "print(\"\\n\")\n",
    "print(\"Matrix Multiplication Result:\\n\", result)"
   ]
  },
  {
   "cell_type": "markdown",
   "id": "2803a6bc",
   "metadata": {},
   "source": [
    "# <center> Best Wishes!🤍 <center>\n",
    "    \n",
    "##   <center> Yassin Nawar <center>"
   ]
  }
 ],
 "metadata": {
  "kernelspec": {
   "display_name": "Python 3 (ipykernel)",
   "language": "python",
   "name": "python3"
  },
  "language_info": {
   "codemirror_mode": {
    "name": "ipython",
    "version": 3
   },
   "file_extension": ".py",
   "mimetype": "text/x-python",
   "name": "python",
   "nbconvert_exporter": "python",
   "pygments_lexer": "ipython3",
   "version": "3.9.12"
  }
 },
 "nbformat": 4,
 "nbformat_minor": 5
}
